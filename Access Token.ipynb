{
 "cells": [
  {
   "cell_type": "code",
   "execution_count": null,
   "id": "f51b3ff6",
   "metadata": {},
   "outputs": [],
   "source": [
    "# getting the access token for @BlackPythonLove account\n",
    "\n",
    "import tweepy\n",
    "\n",
    "# From your app settings page\n",
    "CONSUMER_KEY = \"xxxxxxxxxxxxxxxxxxxxxxxxxxxxx\"\n",
    "CONSUMER_SECRET = \"xxxxxxxxxxxxxxxxxxxxxxxxxxxxxxxxxxxx\"\n",
    "\n",
    "# authorize the consumer key and secret\n",
    "auth = tweepy.OAuthHandler(CONSUMER_KEY, CONSUMER_SECRET, callback = 'oob')\n",
    "auth.secure = True\n",
    "auth_url = auth.get_authorization_url()\n",
    "\n",
    "print ('Please authorize: ' + auth_url)\n",
    "\n",
    "# input the pin gotten from the proxy acc\n",
    "verifier = input('PIN: ').strip()\n",
    "\n",
    "auth.get_access_token(verifier)\n",
    "\n",
    "print (\"ACCESS_KEY = \" + auth.access_token)\n",
    "print (\"ACCESS_SECRET = \" +  auth.access_token_secret)"
   ]
  }
 ],
 "metadata": {
  "kernelspec": {
   "display_name": "Python 3 (ipykernel)",
   "language": "python",
   "name": "python3"
  },
  "language_info": {
   "codemirror_mode": {
    "name": "ipython",
    "version": 3
   },
   "file_extension": ".py",
   "mimetype": "text/x-python",
   "name": "python",
   "nbconvert_exporter": "python",
   "pygments_lexer": "ipython3",
   "version": "3.9.7"
  }
 },
 "nbformat": 4,
 "nbformat_minor": 5
}
