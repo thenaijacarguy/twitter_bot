{
 "cells": [
  {
   "cell_type": "code",
   "execution_count": null,
   "id": "b0c04109",
   "metadata": {},
   "outputs": [],
   "source": [
    "# importing the needed libraries\n",
    "import tweepy\n",
    "import requests\n",
    "from bs4 import BeautifulSoup\n",
    "\n",
    "# keys and tokens\n",
    "consumer_key = 'xxxxxxxxxxxxxxxxxxxxxxxxxxxxx'\n",
    "consumer_secret = 'xxxxxxxxxxxxxxxxxxxxxxxxxxxxxxxxxxxxxxxxxxxxxxxxxx'\n",
    "access_token = 'xxxxxxxxxxxxxxxxxxxxxxxxxxxxxxxxxxxxxxxxxxx'\n",
    "access_secret = 'xxxxxxxxxxxxxxxxxxxxxxxxxxxxxxxxxxxxxxxxxxxxxxxxx'\n",
    "\n",
    "# authentication\n",
    "auth = tweepy.OAuthHandler(consumer_key, consumer_secret)\n",
    "auth.set_access_token(access_token, access_secret)\n",
    "\n",
    "# API\n",
    "api = tweepy.API(auth)\n",
    "\n",
    "# assigning the article url to a variable\n",
    "article_url = 'https://www.theverge.com/tech'\n",
    "\n",
    "# getting the html with the requests library\n",
    "response = requests.get(article_url)\n",
    "\n",
    "# creating a beautiful soup object with the text gotten from the response of the request\n",
    "soup = BeautifulSoup(response.text, 'html.parser')\n",
    "\n",
    "# fetching the title of the first article\n",
    "article = soup.find('a', class_='after:absolute')\n",
    "title = article.find_next('a').text\n",
    "\n",
    "# the body\n",
    "body = soup.find_all('p')[1].text\n",
    "\n",
    "# the link to the first article\n",
    "link = article.find_next('a')['href']\n",
    "\n",
    "# the variable containing the content of the tweet\n",
    "tweet = '#DailyTechNews: ' + title + ' - ' + body + ' Read More Here -> https://theverge.com' + link\n",
    "\n",
    "# the image to be included in the tweet\n",
    "image = soup.find_all('img')[1]['src']\n",
    "image_url = image\n",
    "response = requests.get(image_url)\n",
    "\n",
    "# saving the image to a file\n",
    "with open(image.split('/')[-1], \"wb\") as f:\n",
    "    f.write(response.content)\n",
    "\n",
    "# uploading the image to get the media id\n",
    "media = api.media_upload(image.split('/')[-1])\n",
    "\n",
    "# updating the status\n",
    "api.update_status(status=tweet, media_ids=[media.media_id])\n"
   ]
  }
 ],
 "metadata": {
  "kernelspec": {
   "display_name": "Python 3 (ipykernel)",
   "language": "python",
   "name": "python3"
  },
  "language_info": {
   "codemirror_mode": {
    "name": "ipython",
    "version": 3
   },
   "file_extension": ".py",
   "mimetype": "text/x-python",
   "name": "python",
   "nbconvert_exporter": "python",
   "pygments_lexer": "ipython3",
   "version": "3.9.7"
  }
 },
 "nbformat": 4,
 "nbformat_minor": 5
}
